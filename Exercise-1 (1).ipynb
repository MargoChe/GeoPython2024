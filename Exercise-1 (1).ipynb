{
 "cells": [
  {
   "cell_type": "code",
   "execution_count": 1,
   "id": "fd82a9e8-e8be-4283-a272-b0e94489961a",
   "metadata": {
    "tags": []
   },
   "outputs": [],
   "source": [
    "ice_cream_rating = 8"
   ]
  },
  {
   "cell_type": "code",
   "execution_count": 2,
   "id": "509c96c1-a37b-4d13-b222-c35874121124",
   "metadata": {},
   "outputs": [],
   "source": [
    "sleep_rating = 10"
   ]
  },
  {
   "cell_type": "code",
   "execution_count": 3,
   "id": "a1012a36",
   "metadata": {},
   "outputs": [],
   "source": [
    "first_name = 'Маргарита'"
   ]
  },
  {
   "cell_type": "code",
   "execution_count": 4,
   "id": "be4634e7",
   "metadata": {},
   "outputs": [],
   "source": [
    "last_name = 'Черепанова'"
   ]
  },
  {
   "cell_type": "code",
   "execution_count": 5,
   "id": "4f653073",
   "metadata": {},
   "outputs": [],
   "source": [
    "my_name = 'Маргарита Черепанова'"
   ]
  },
  {
   "cell_type": "code",
   "execution_count": 10,
   "id": "807944ac",
   "metadata": {},
   "outputs": [
    {
     "ename": "TypeError",
     "evalue": "unsupported operand type(s) for /: 'str' and 'int'",
     "output_type": "error",
     "traceback": [
      "\u001b[1;31m---------------------------------------------------------------------------\u001b[0m",
      "\u001b[1;31mTypeError\u001b[0m                                 Traceback (most recent call last)",
      "Cell \u001b[1;32mIn[10], line 1\u001b[0m\n\u001b[1;32m----> 1\u001b[0m happiness_rating \u001b[38;5;241m=\u001b[39m (\u001b[38;5;124m'\u001b[39m\u001b[38;5;124mice_cream_rating\u001b[39m\u001b[38;5;124m'\u001b[39m \u001b[38;5;241m+\u001b[39m \u001b[38;5;124m'\u001b[39m\u001b[38;5;124msleep_rating\u001b[39m\u001b[38;5;124m'\u001b[39m)\u001b[38;5;241m/\u001b[39m\u001b[38;5;241m2\u001b[39m\n",
      "\u001b[1;31mTypeError\u001b[0m: unsupported operand type(s) for /: 'str' and 'int'"
     ]
    }
   ],
   "source": [
    "happiness_rating = (ice_cream_rating + sleep_rating)"
   ]
  },
  {
   "cell_type": "code",
   "execution_count": null,
   "id": "a252bb6b",
   "metadata": {},
   "outputs": [],
   "source": []
  },
  {
   "cell_type": "code",
   "execution_count": null,
   "id": "c72c0b99",
   "metadata": {},
   "outputs": [],
   "source": []
  }
 ],
 "metadata": {
  "kernelspec": {
   "display_name": "Python 3 (ipykernel)",
   "language": "python",
   "name": "python3"
  },
  "language_info": {
   "codemirror_mode": {
    "name": "ipython",
    "version": 3
   },
   "file_extension": ".py",
   "mimetype": "text/x-python",
   "name": "python",
   "nbconvert_exporter": "python",
   "pygments_lexer": "ipython3",
   "version": "3.10.1"
  }
 },
 "nbformat": 4,
 "nbformat_minor": 5
}
