{
 "cells": [
  {
   "cell_type": "markdown",
   "metadata": {
    "deletable": false,
    "editable": false,
    "nbgrader": {
     "cell_type": "markdown",
     "checksum": "5c80a2a9de6cb49c29a435c2524fb4a6",
     "grade": false,
     "grade_id": "Intro_text",
     "locked": true,
     "schema_version": 3,
     "solution": false
    }
   },
   "source": [
    "## Задача 3 - Анализ данных\n",
    "\n",
    "В этой задаче мы рассмотрим наши данные о температуре, сравнивая измерения в Кумпула и Рованими. Для этого мы будем использовать условия для извлечения подмножества наших данных, а затем анализировать эти подмножества с использованием основных функций pandas. Пожалуйста, выполните задания ниже, записав свой код в кодовые ячейки в каждом разделе.\n",
    "\n",
    "### Советы по выполнению упражнения\n",
    "\n",
    "- Используйте **в точности** те же имена переменных, что и в инструкциях, потому что ваши ответы будут автоматически оценены, и тесты, которые оценивают ваши ответы, зависят от того же форматирования или именования переменных, что и в инструкциях.\n",
    "\n",
    "- **Пожалуйста**,\n",
    "\n",
    "    - **Не изменяйте имена файлов**. Сделайте всю работу в файле `Exercise-5-problem-3.ipynb` (этом файле).\n",
    "    - **Не копируйте/вставляйте ячейки в этом блокноте**. Мы используем автоматизированную систему оценки, которая не будет работать, если есть копии кодовых ячеек.\n",
    "    - **Не изменяйте типы ячеек**. Вы можете добавить ячейки, но изменение типов ячеек для существующих ячеек (например, c кода на Markdown) также приведет к выходу из строя автоматизированной проверки.\n",
    "\n",
    "### Условия успешного выполнения задания\n",
    "\n",
    "- Расчет средней температуры для Хельсинки Кумпула и Рованиими на лето 2017 года\n",
    "- Выборка температуры на май и июнь 2017 года в отдельные наборы данных для каждого местоположения\n",
    "- Печать некоторых сводных значений за каждый месяц (май, июнь) и местоположение (Кумпула, Рованиеми)\n",
    "- Добавление комментарии, которые объясняют, что делают большинство строк в коде\n",
    "- Ответы на пару вопросов в конце задания\n",
    "- Загрузка вашего блокнота в репозиторий "
   ]
  },
  {
   "cell_type": "markdown",
   "metadata": {
    "deletable": false,
    "editable": false,
    "nbgrader": {
     "cell_type": "markdown",
     "checksum": "f44f543a21dd35544d34ed3ddf672997",
     "grade": false,
     "grade_id": "cell-a91a0ee92f8c4962",
     "locked": true,
     "schema_version": 3,
     "solution": false,
     "task": false
    },
    "tags": []
   },
   "source": [
    "## Соглашение об использовании ИИ\n",
    "\n",
    "**Введите свое имя в ячейку ниже** чтобы подтвердить, что вы следовали [принципам курса об использовании инструментов ИИ](https://geo-python-2024.readthedocs.io/ru/latest/course-info/ai-tools.html) и понимаете, что использование инструментов ИИ считается обманом."
   ]
  },
  {
   "cell_type": "markdown",
   "metadata": {
    "deletable": false,
    "nbgrader": {
     "cell_type": "markdown",
     "checksum": "3bb5d1793afe421eb01ccbafb4af6f83",
     "grade": true,
     "grade_id": "E5-P3-AI-LLM_statement",
     "locked": false,
     "points": 0,
     "schema_version": 3,
     "solution": true,
     "task": false
    },
    "tags": []
   },
   "source": [
    "Рита Ч."
   ]
  },
  {
   "cell_type": "markdown",
   "metadata": {
    "deletable": false,
    "editable": false,
    "nbgrader": {
     "cell_type": "markdown",
     "checksum": "1b6ab534a2cd475117b7d0016c7cf9f3",
     "grade": false,
     "grade_id": "cell-33c2d0518738c711",
     "locked": true,
     "schema_version": 3,
     "solution": false,
     "task": false
    }
   },
   "source": [
    "### Часть 1 \n",
    "\n",
    "Для начала вам нужно загрузить данные из задачи 2.\n",
    "\n",
    "- Загрузите данные из файлов CSV, полученных в задаче 2 в переменные `kumpula` и `rovaniemi`"
   ]
  },
  {
   "cell_type": "code",
   "execution_count": 2,
   "metadata": {
    "deletable": false,
    "nbgrader": {
     "cell_type": "code",
     "checksum": "deb603f4e6e03059689d01f3d8ca3044",
     "grade": false,
     "grade_id": "problem_3_ag_p1_read_data",
     "locked": false,
     "schema_version": 3,
     "solution": true
    }
   },
   "outputs": [],
   "source": [
    "kumpula = None\n",
    "rovaniemi = None\n",
    "\n",
    "# Замените строку ниже вашим кодом\n",
    "import pandas as pd\n",
    "kumpula = pd.read_csv('Kumpula_temps_May_Aug_2017.csv')\n",
    "rovaniemi = pd.read_csv('Rovaniemi_temps_May_Aug_2017.csv')"
   ]
  },
  {
   "cell_type": "code",
   "execution_count": 3,
   "metadata": {},
   "outputs": [
    {
     "name": "stdout",
     "output_type": "stream",
     "text": [
      "    USAF  YR--MODAHRMN  TEMP  MAX  MIN  Celsius\n",
      "0  29980  201705010000  37.0  NaN  NaN        3\n",
      "1  29980  201705010100  37.0  NaN  NaN        3\n",
      "2  29980  201705010200  37.0  NaN  NaN        3\n",
      "3  29980  201705010300  37.0  NaN  NaN        3\n",
      "4  29980  201705010400  39.0  NaN  NaN        4\n",
      "\n",
      "    USAF  YR--MODAHRMN  TEMP  MAX  MIN  Celsius\n",
      "0  28450  201705010000  31.0  NaN  NaN       -1\n",
      "1  28450  201705010020  30.0  NaN  NaN       -1\n",
      "2  28450  201705010050  30.0  NaN  NaN       -1\n",
      "3  28450  201705010100  31.0  NaN  NaN       -1\n",
      "4  28450  201705010120  30.0  NaN  NaN       -1\n"
     ]
    }
   ],
   "source": [
    "print(kumpula.head())\n",
    "print(\"\")\n",
    "print(rovaniemi.head())"
   ]
  },
  {
   "cell_type": "markdown",
   "metadata": {
    "deletable": false,
    "editable": false,
    "nbgrader": {
     "cell_type": "markdown",
     "checksum": "a5318107021b10fe1830ba30bcc46e89",
     "grade": false,
     "grade_id": "cell-c25a29efbcf77ee7",
     "locked": true,
     "schema_version": 3,
     "solution": false,
     "task": false
    }
   },
   "source": [
    "### Часть 2 \n",
    "\n",
    "Теперь вы можете найти *медиану температуры* за период, который охватывает данные.\n",
    "\n",
    "- Какова была медиана температуры в Цельсиях в течение наблюдаемого периода в:\n",
    "    - Хельсинки Кумпула? (сохраните ответ в переменной `kumpula_median`)\n",
    "    - Рованиеми? (сохраните ответ в переменной `rovaniemi_median`)"
   ]
  },
  {
   "cell_type": "code",
   "execution_count": 4,
   "metadata": {
    "deletable": false,
    "nbgrader": {
     "cell_type": "code",
     "checksum": "975856c4e5d377c3aaabec3af0fe53da",
     "grade": false,
     "grade_id": "problem_3_ag_p2_median",
     "locked": false,
     "schema_version": 3,
     "solution": true
    }
   },
   "outputs": [],
   "source": [
    "kumpula_median = None\n",
    "rovaniemi_median = None\n",
    "\n",
    "# Замените строку ниже вашим кодом\n",
    "kumpula_median = kumpula['Celsius'].median()\n",
    "rovaniemi_median = rovaniemi['Celsius'].median()"
   ]
  },
  {
   "cell_type": "code",
   "execution_count": 5,
   "metadata": {
    "deletable": false,
    "editable": false,
    "nbgrader": {
     "cell_type": "code",
     "checksum": "c74731bd13e85d92c4c9c1b77dabc589",
     "grade": true,
     "grade_id": "problem_3_ag_p2_median_test",
     "locked": true,
     "points": 1,
     "schema_version": 3,
     "solution": false
    }
   },
   "outputs": [
    {
     "name": "stdout",
     "output_type": "stream",
     "text": [
      "Медиана по Кумпула: 14.0\n",
      "Медиана по Рованиеми: 11.0\n"
     ]
    }
   ],
   "source": [
    "# Отпечатает среднюю температуру\n",
    "print(f\"Медиана по Кумпула: {kumpula_median}\")\n",
    "print(f\"Медиана по Рованиеми: {rovaniemi_median}\")\n"
   ]
  },
  {
   "cell_type": "markdown",
   "metadata": {
    "deletable": false,
    "editable": false,
    "nbgrader": {
     "cell_type": "markdown",
     "checksum": "e78788aaa693f3cbdff98a364cf9b494",
     "grade": false,
     "grade_id": "cell-6eda08b036b421d9",
     "locked": true,
     "schema_version": 3,
     "solution": false,
     "task": false
    }
   },
   "source": [
    "### Часть 3 \n",
    "\n",
    "Медианы температур выше рассматриваются данные за все лето (май-август), следовательно, различия могут быть не так ясны. Давайте теперь найдем *среднюю температуру* с мая и июня 2017 года в Кумпуле и Ровании.\n",
    "\n",
    "- Из объектов DataFrames `kumpula` и `rovaniemi` выберите строки, где значения `YR--MODAHRMN` относятся к маю 2017 года\n",
    "    - Назначьте эти выбранные строки переменным `kumpula_may` и `rovaniemi_may` (посмотрите [подсказки](https://geo-python.github.io/site/lessons/L5/exercise-5.html) для помощи!)\n",
    "- Повторите процедуру для июня месяца и назначить эти значения переменным `kumpula_june` и `rovaniemi_june`"
   ]
  },
  {
   "cell_type": "code",
   "execution_count": 18,
   "metadata": {
    "deletable": false,
    "nbgrader": {
     "cell_type": "code",
     "checksum": "e658e48c072ada99e4541860ebaf0095",
     "grade": false,
     "grade_id": "problem_3_ag_p3_may",
     "locked": false,
     "schema_version": 3,
     "solution": true
    }
   },
   "outputs": [],
   "source": [
    "# Выберите подмножество данных Kumpula и Rovaniemi за 5-й и 6-й месяц\n",
    "kumpula_may = None\n",
    "rovaniemi_may = None\n",
    "\n",
    "kumpula_june = None\n",
    "rovaniemi_june = None\n",
    "\n",
    "# Замените строку ниже вашим кодом\n",
    "kumpula_may = kumpula.loc[(kumpula['YR--MODAHRMN'] >= 201705010000) & (kumpula['YR--MODAHRMN'] <= 201705312300)]\n",
    "rovaniemi_may = rovaniemi.loc[(rovaniemi['YR--MODAHRMN'] >= 201705010000) & (rovaniemi['YR--MODAHRMN'] <= 201705312350)]\n",
    "\n",
    "# Вместо использования loc можно использовать метод фильтрации query для упрощения кода\n",
    "kumpula_june = kumpula.query('201706010000 <= `YR--MODAHRMN` <= 201706302300')\n",
    "rovaniemi_june = rovaniemi.query('201706010000 <= `YR--MODAHRMN` <= 201706302350')"
   ]
  },
  {
   "cell_type": "markdown",
   "metadata": {
    "deletable": false,
    "editable": false,
    "nbgrader": {
     "cell_type": "markdown",
     "checksum": "ced113a7a44f6c3bc88de58a3dc62056",
     "grade": false,
     "grade_id": "cell-c20a16ae3d1442cb",
     "locked": true,
     "schema_version": 3,
     "solution": false,
     "task": false
    }
   },
   "source": [
    "Убедитесь, что подмножества выглядят нормально:"
   ]
  },
  {
   "cell_type": "code",
   "execution_count": 19,
   "metadata": {
    "deletable": false,
    "editable": false,
    "nbgrader": {
     "cell_type": "code",
     "checksum": "2b46b5ac73b0c1ecdec568ab8da5f07d",
     "grade": true,
     "grade_id": "problem_3_ag_p3_Kumpula_may_test",
     "locked": true,
     "points": 0.5,
     "schema_version": 3,
     "solution": false
    }
   },
   "outputs": [
    {
     "name": "stdout",
     "output_type": "stream",
     "text": [
      "Первые значения в мае, Кумпула:\n",
      "    USAF  YR--MODAHRMN  TEMP  MAX  MIN  Celsius\n",
      "0  29980  201705010000  37.0  NaN  NaN        3\n",
      "1  29980  201705010100  37.0  NaN  NaN        3\n",
      "2  29980  201705010200  37.0  NaN  NaN        3\n",
      "3  29980  201705010300  37.0  NaN  NaN        3\n",
      "4  29980  201705010400  39.0  NaN  NaN        4\n",
      "\n",
      "Последние значения в мае, Кумпула:\n",
      "      USAF  YR--MODAHRMN  TEMP  MAX  MIN  Celsius\n",
      "736  29980  201705311900  51.0  NaN  NaN       11\n",
      "737  29980  201705312000  50.0  NaN  NaN       10\n",
      "738  29980  201705312100  47.0  NaN  NaN        8\n",
      "739  29980  201705312200  44.0  NaN  NaN        7\n",
      "740  29980  201705312300  43.0  NaN  NaN        6\n"
     ]
    }
   ],
   "source": [
    "print(f\"Первые значения в мае, Кумпула:\\n{kumpula_may.head()}\\n\")\n",
    "print(f\"Последние значения в мае, Кумпула:\\n{kumpula_may.tail()}\")"
   ]
  },
  {
   "cell_type": "code",
   "execution_count": 20,
   "metadata": {
    "deletable": false,
    "editable": false,
    "nbgrader": {
     "cell_type": "code",
     "checksum": "e4d83fa396f745a05cfd902c4107fc23",
     "grade": true,
     "grade_id": "problem_3_ag_p3_Kumpula_june_test",
     "locked": true,
     "points": 0.5,
     "schema_version": 3,
     "solution": false,
     "task": false
    }
   },
   "outputs": [
    {
     "name": "stdout",
     "output_type": "stream",
     "text": [
      "Первые значения в июне, Кумпула:\n",
      "      USAF  YR--MODAHRMN  TEMP  MAX  MIN  Celsius\n",
      "741  29980  201706010000  42.0  NaN  NaN        6\n",
      "742  29980  201706010100  40.0  NaN  NaN        4\n",
      "743  29980  201706010200  40.0  NaN  NaN        4\n",
      "744  29980  201706010300  41.0  NaN  NaN        5\n",
      "745  29980  201706010400  44.0  NaN  NaN        7\n",
      "\n",
      "Последние значения в июне, Кумпула:\n",
      "       USAF  YR--MODAHRMN  TEMP  MAX  MIN  Celsius\n",
      "1450  29980  201706301900  65.0  NaN  NaN       18\n",
      "1451  29980  201706302000  61.0  NaN  NaN       16\n",
      "1452  29980  201706302100  63.0  NaN  NaN       17\n",
      "1453  29980  201706302200  62.0  NaN  NaN       17\n",
      "1454  29980  201706302300  61.0  NaN  NaN       16\n"
     ]
    }
   ],
   "source": [
    "print(f\"Первые значения в июне, Кумпула:\\n{kumpula_june.head()}\\n\")\n",
    "print(f\"Последние значения в июне, Кумпула:\\n{kumpula_june.tail()}\")"
   ]
  },
  {
   "cell_type": "code",
   "execution_count": 21,
   "metadata": {
    "deletable": false,
    "editable": false,
    "nbgrader": {
     "cell_type": "code",
     "checksum": "227099ba97029cbeb597834860f637b2",
     "grade": true,
     "grade_id": "problem_3_ag_p3_Rovaniemi_may_test",
     "locked": true,
     "points": 0.5,
     "schema_version": 3,
     "solution": false
    }
   },
   "outputs": [
    {
     "name": "stdout",
     "output_type": "stream",
     "text": [
      "Первые значения в мае, Рованииеми:\n",
      "    USAF  YR--MODAHRMN  TEMP  MAX  MIN  Celsius\n",
      "0  28450  201705010000  31.0  NaN  NaN       -1\n",
      "1  28450  201705010020  30.0  NaN  NaN       -1\n",
      "2  28450  201705010050  30.0  NaN  NaN       -1\n",
      "3  28450  201705010100  31.0  NaN  NaN       -1\n",
      "4  28450  201705010120  30.0  NaN  NaN       -1\n",
      "\n",
      "Последние значения в мае, Рованииеми:\n",
      "       USAF  YR--MODAHRMN  TEMP  MAX  MIN  Celsius\n",
      "2215  28450  201705312220  32.0  NaN  NaN        0\n",
      "2216  28450  201705312250  32.0  NaN  NaN        0\n",
      "2217  28450  201705312300  33.0  NaN  NaN        1\n",
      "2218  28450  201705312320  32.0  NaN  NaN        0\n",
      "2219  28450  201705312350  30.0  NaN  NaN       -1\n"
     ]
    }
   ],
   "source": [
    "print(f\"Первые значения в мае, Рованииеми:\\n{rovaniemi_may.head()}\\n\")\n",
    "print(f\"Последние значения в мае, Рованииеми:\\n{rovaniemi_may.tail()}\")"
   ]
  },
  {
   "cell_type": "code",
   "execution_count": 22,
   "metadata": {
    "deletable": false,
    "editable": false,
    "nbgrader": {
     "cell_type": "code",
     "checksum": "b1479509bbe424439169f91d57fa1c54",
     "grade": true,
     "grade_id": "problem_3_ag_p3_Rovaniemi_june_test",
     "locked": true,
     "points": 0.5,
     "schema_version": 3,
     "solution": false,
     "task": false
    }
   },
   "outputs": [
    {
     "name": "stdout",
     "output_type": "stream",
     "text": [
      "Первые значения в июне, Рованииеми:\n",
      "       USAF  YR--MODAHRMN  TEMP  MAX  MIN  Celsius\n",
      "2220  28450  201706010000  32.0  NaN  NaN        0\n",
      "2221  28450  201706010020  30.0  NaN  NaN       -1\n",
      "2222  28450  201706010050  30.0  NaN  NaN       -1\n",
      "2223  28450  201706010100  31.0  NaN  NaN       -1\n",
      "2224  28450  201706010120  30.0  NaN  NaN       -1\n",
      "\n",
      "Последние значения в июне, Рованииеми:\n",
      "       USAF  YR--MODAHRMN  TEMP  MAX  MIN  Celsius\n",
      "4342  28450  201706302220  57.0  NaN  NaN       14\n",
      "4343  28450  201706302250  57.0  NaN  NaN       14\n",
      "4344  28450  201706302300  56.0  NaN  NaN       13\n",
      "4345  28450  201706302320  57.0  NaN  NaN       14\n",
      "4346  28450  201706302350  57.0  NaN  NaN       14\n"
     ]
    }
   ],
   "source": [
    "print(f\"Первые значения в июне, Рованииеми:\\n{rovaniemi_june.head()}\\n\")\n",
    "print(f\"Последние значения в июне, Рованииеми:\\n{rovaniemi_june.tail()}\")"
   ]
  },
  {
   "cell_type": "markdown",
   "metadata": {
    "deletable": false,
    "editable": false,
    "nbgrader": {
     "cell_type": "markdown",
     "checksum": "a65a68a4bf3075ccc9de3bb5ce5266c1",
     "grade": false,
     "grade_id": "cell-5d735e872f16ccd5",
     "locked": true,
     "schema_version": 3,
     "solution": false,
     "task": false
    }
   },
   "source": [
    "### Часть 4\n",
    "\n",
    "Теперь вы можете облегчить сравнение данных о температуре как по местам, так и по месяцам, распечатав несколько значений.\n",
    "\n",
    "- Используйте функцию `print ()`, чтобы показать среднюю, минимальную и максимальную температуры в Цельсиях для обоих мест в мае и июне, используя новые подмножества данных (`kumpula_may`, `rovaniemi_may`, `kumpula_june`, and `rovaniemi_june`)."
   ]
  },
  {
   "cell_type": "code",
   "execution_count": 23,
   "metadata": {
    "deletable": false,
    "nbgrader": {
     "cell_type": "code",
     "checksum": "12a6c95dd173d219530d35b72f81490f",
     "grade": true,
     "grade_id": "problem_3_mg_p4_May_and_June_stats",
     "locked": false,
     "points": 1,
     "schema_version": 3,
     "solution": true
    }
   },
   "outputs": [
    {
     "name": "stdout",
     "output_type": "stream",
     "text": [
      "Kumpula в мае:\n",
      "Средняя температура: 9.758434547908232\n",
      "Минимальная температура: -2\n",
      "Максимальная температура: 23\n",
      "Rovaniemi в мае:\n",
      "Средняя температура: 2.986036036036036\n",
      "Минимальная температура: -7\n",
      "Максимальная температура: 15\n",
      "Kumpula в июне:\n",
      "Средняя температура: 13.732492997198879\n",
      "Минимальная температура: 3\n",
      "Максимальная температура: 24\n",
      "Rovaniemi в июне:\n",
      "Средняя температура: 11.017395392571697\n",
      "Минимальная температура: -1\n",
      "Максимальная температура: 23\n"
     ]
    }
   ],
   "source": [
    "# Замените строку ниже вашим кодом\n",
    "# Эта функция выводит статистику температуры (средняя, минимальная, максимальная) для указанного месяца и места\n",
    "def print_stat(data, place, month):\n",
    "    # Выводит название места и месяца\n",
    "    print(f\"{place} в {month}:\")\n",
    "    # Выводит среднюю температуру\n",
    "    print(\"Средняя температура:\", data['Celsius'].mean())\n",
    "    # Выводит минимальную температуру\n",
    "    print(\"Минимальная температура:\", data['Celsius'].min())\n",
    "    # Выводит максимальную температуру\n",
    "    print(\"Максимальная температура:\", data['Celsius'].max())\n",
    "\n",
    "# Выводит статистику для месяцев мая и июня для Kumpula и Rovaniemi\n",
    "print_stat(kumpula_may, \"Kumpula\", \"мае\")\n",
    "print_stat(rovaniemi_may, \"Rovaniemi\", \"мае\")\n",
    "print_stat(kumpula_june, \"Kumpula\", \"июне\")\n",
    "print_stat(rovaniemi_june, \"Rovaniemi\", \"июне\")"
   ]
  },
  {
   "cell_type": "markdown",
   "metadata": {
    "deletable": false,
    "editable": false,
    "nbgrader": {
     "cell_type": "markdown",
     "checksum": "c19a758e3ace532979854894a73433a0",
     "grade": false,
     "grade_id": "comments",
     "locked": true,
     "schema_version": 3,
     "solution": false
    }
   },
   "source": [
    "### Подитог\n",
    "\n",
    "В духе [открытия знаний](http://researcher.ibm.com/researcher/view_group.php?id=144), давайте кратко интерпретируем результаты анализа данных в задаче 3. Пожалуйста, ответьте на следующие вопросы на основе результатов анализа данных из этой задачи:\n",
    "\n",
    "- Существует ли значимая разница в температуре между месяцами?\n",
    "- Холоднее ли в Рованииеми, чем в Кумпула?\n",
    "\n",
    "Также обязательно:\n",
    "\n",
    "- Убедитесь, что ваш код включает информативные комментарии, объясняющие, что делает ваш код\n",
    "- Опубликуйте свои изменения в репозиторий для упражнения 5"
   ]
  },
  {
   "cell_type": "markdown",
   "metadata": {
    "deletable": false,
    "nbgrader": {
     "cell_type": "markdown",
     "checksum": "1f0848d8fe16e12f1951ccdd1b5edf83",
     "grade": true,
     "grade_id": "problem_3_mg_p5_questions",
     "locked": false,
     "points": 0,
     "schema_version": 3,
     "solution": true,
     "task": false
    }
   },
   "source": [
    "Разница между месяцами несущественна в Кумпулу, всего пара градусов. В Рованиеми разница между месяцами существенна и составляет порядка 8 градусов. Также стоит отметить, что в Рованиеми холоднее, чем в Кумпулу."
   ]
  },
  {
   "cell_type": "markdown",
   "metadata": {
    "deletable": false,
    "editable": false,
    "nbgrader": {
     "cell_type": "markdown",
     "checksum": "0e5f52b74f4ffaea57ca77ace2732647",
     "grade": false,
     "grade_id": "text",
     "locked": true,
     "schema_version": 3,
     "solution": false
    }
   },
   "source": [
    "### К задаче 4 (*необязательно*)\n",
    "\n",
    "Теперь вы можете перейти к *необязательной* [Задаче 4: агрегация данных](Exercise-5-problem-4.ipynb)"
   ]
  }
 ],
 "metadata": {
  "anaconda-cloud": {},
  "kernelspec": {
   "display_name": "Python 3 (ipykernel)",
   "language": "python",
   "name": "python3"
  },
  "language_info": {
   "codemirror_mode": {
    "name": "ipython",
    "version": 3
   },
   "file_extension": ".py",
   "mimetype": "text/x-python",
   "name": "python",
   "nbconvert_exporter": "python",
   "pygments_lexer": "ipython3",
   "version": "3.10.1"
  }
 },
 "nbformat": 4,
 "nbformat_minor": 4
}
