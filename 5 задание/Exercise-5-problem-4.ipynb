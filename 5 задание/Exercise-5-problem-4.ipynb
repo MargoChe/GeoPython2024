{
 "cells": [
  {
   "cell_type": "markdown",
   "metadata": {
    "deletable": false,
    "editable": false,
    "nbgrader": {
     "cell_type": "markdown",
     "checksum": "fb038891b02b74e05090a1708dcb85d7",
     "grade": false,
     "grade_id": "cell-8f87d3f057af49f1",
     "locked": true,
     "schema_version": 3,
     "solution": false,
     "task": false
    }
   },
   "source": [
    "## Задача 4 (*опционально*) - Парсинг дневной температуры\n",
    "\n",
    "**Это необязательная задача для тех, кто хочет больше практики.**\n",
    "\n",
    "Эта задача более сложна, поскольку мы предоставляем только минимальные инструкции по выполнению заданных задач. Вам нужно будет искать документацию Pandas (и другие ресурсы), чтобы получить помощь. Мы рассмотрим агрегацию данных более подробно во время урока 6, так что это хорошая возможность подготовиться к следующей неделе!\n",
    "\n",
    "В этой задаче цель состоит в том, чтобы агрегировать почасовые данные о температуре для погодных станций Хельсинки и Рованиими по дням. В настоящее время в данных существует (максимум) 3 измерения в час, как это видно по столбцу `YR--MODAHRMN` (Год-час-минута по Гринвичу (GMT):\n",
    "\n",
    "```\n",
    "    USAF  YR--MODAHRMN  TEMP  MAX  MIN  Celsius\n",
    "0  28450  201705010000  31.0  NaN  NaN       -1\n",
    "1  28450  201705010020  30.0  NaN  NaN       -1\n",
    "2  28450  201705010050  30.0  NaN  NaN       -1\n",
    "3  28450  201705010100  31.0  NaN  NaN       -1\n",
    "4  28450  201705010120  30.0  NaN  NaN       -1\n",
    "```\n",
    "\n",
    "Выход должен содержать среднюю, максимальную и минимальную температуры в Цельсиях для каждого дня (например, одно среднее значение температуры на 1 мая и так далее).\n",
    "\n",
    "### Что необходимо сделать\n",
    "\n",
    "- Ваша задача состоит в том, чтобы суммировать информацию для каждого дня, агрегируя (группируя) объекты DataFrame.\n",
    "- Результат должен быть новым DataFrame, где вы рассчитали среднюю, максимальную и минимальную температуры в Цельсиях отдельно для каждого дня на основе почасовых значений.\n",
    "- Повторите задачу для двух наборов данных, которые вы создали в задаче 2 (температуры в мае - августе для Рованиими и Кумпула).\n",
    "\n",
    "Не забудьте:\n",
    "\n",
    "- Добавить комментарии в свой код\n",
    "- Опубликовать свое решение на GitHub/Gitflic\n",
    "\n",
    "### Подсказка\n",
    "\n",
    "Вы можете найти помощь в [официальной документации Pandas](https://pandas.pydata.org/pandas-docs/stable/) и Google."
   ]
  },
  {
   "cell_type": "code",
   "execution_count": 18,
   "metadata": {
    "deletable": false,
    "nbgrader": {
     "cell_type": "code",
     "checksum": "71f685a62c58703b2de3ecec535adf13",
     "grade": true,
     "grade_id": "problem_4_mg_p1_do_it_all",
     "locked": false,
     "points": 0,
     "schema_version": 3,
     "solution": true,
     "task": false
    }
   },
   "outputs": [
    {
     "name": "stdout",
     "output_type": "stream",
     "text": [
      "Rovaniemi Daily: \n",
      "      YR--MODAHRMN  Avg_Temp  Max_Temp  Min_Temp\n",
      "0     201705010000 -0.555556 -0.555556 -0.555556\n",
      "1     201705010020 -1.111111 -1.111111 -1.111111\n",
      "2     201705010050 -1.111111 -1.111111 -1.111111\n",
      "3     201705010100 -0.555556 -0.555556 -0.555556\n",
      "4     201705010120 -1.111111 -1.111111 -1.111111\n",
      "...            ...       ...       ...       ...\n",
      "8762  201708312220  7.777778  7.777778  7.777778\n",
      "8763  201708312250  7.777778  7.777778  7.777778\n",
      "8764  201708312300  8.888889  8.888889  8.888889\n",
      "8765  201708312320  7.777778  7.777778  7.777778\n",
      "8766  201708312350  8.888889  8.888889  8.888889\n",
      "\n",
      "[8767 rows x 4 columns]\n",
      "\n",
      "Kumpula Daily: \n",
      "      YR--MODAHRMN   Avg_Temp   Max_Temp   Min_Temp\n",
      "0     201705010000   2.777778   2.777778   2.777778\n",
      "1     201705010100   2.777778   2.777778   2.777778\n",
      "2     201705010200   2.777778   2.777778   2.777778\n",
      "3     201705010300   2.777778   2.777778   2.777778\n",
      "4     201705010400   3.888889   3.888889   3.888889\n",
      "...            ...        ...        ...        ...\n",
      "2919  201708311900  17.777778  17.777778  17.777778\n",
      "2920  201708312000  17.777778  17.777778  17.777778\n",
      "2921  201708312100  17.777778  17.777778  17.777778\n",
      "2922  201708312200  17.777778  17.777778  17.777778\n",
      "2923  201708312300  17.777778  17.777778  17.777778\n",
      "\n",
      "[2924 rows x 4 columns]\n"
     ]
    }
   ],
   "source": [
    "import pandas as pd\n",
    "\n",
    "# Загрузка данных для Рованиеми\n",
    "rovaniemi_data = pd.read_csv('Rovaniemi_temps_May_Aug_2017.csv')\n",
    "\n",
    "# Загрузка данных для Кумпулы\n",
    "kumpula_data = pd.read_csv('Kumpula_temps_May_Aug_2017.csv')\n",
    "\n",
    "# Преобразование температуры из Фаренгейта в Цельсий\n",
    "rovaniemi_data['Celsius'] = (rovaniemi_data['TEMP'] - 32)/1.8\n",
    "kumpula_data['Celsius'] = (kumpula_data['TEMP'] - 32)/1.8\n",
    "\n",
    "# Группировка данных по дате и расчет агрегированных статистик\n",
    "rovaniemi_daily_stats = rovaniemi_data.groupby('YR--MODAHRMN').agg(\n",
    "    {'Celsius': ['mean', 'max', 'min']}\n",
    ").reset_index()\n",
    "\n",
    "kumpula_daily_stats = kumpula_data.groupby('YR--MODAHRMN').agg(\n",
    "    {'Celsius': ['mean', 'max', 'min']}\n",
    ").reset_index()\n",
    "\n",
    "# Переименование столбцов\n",
    "rovaniemi_daily_stats.columns = ['YR--MODAHRMN', 'Avg_Temp', 'Max_Temp', 'Min_Temp']\n",
    "kumpula_daily_stats.columns = ['YR--MODAHRMN', 'Avg_Temp', 'Max_Temp', 'Min_Temp']\n",
    "\n",
    "# Вывод агрегированных статистик\n",
    "print(\"Rovaniemi Daily: \")\n",
    "print(rovaniemi_daily_stats)\n",
    "\n",
    "print(\"\\nKumpula Daily: \")\n",
    "print(kumpula_daily_stats)"
   ]
  },
  {
   "cell_type": "code",
   "execution_count": null,
   "metadata": {},
   "outputs": [],
   "source": []
  }
 ],
 "metadata": {
  "anaconda-cloud": {},
  "kernelspec": {
   "display_name": "Python 3 (ipykernel)",
   "language": "python",
   "name": "python3"
  },
  "language_info": {
   "codemirror_mode": {
    "name": "ipython",
    "version": 3
   },
   "file_extension": ".py",
   "mimetype": "text/x-python",
   "name": "python",
   "nbconvert_exporter": "python",
   "pygments_lexer": "ipython3",
   "version": "3.10.1"
  }
 },
 "nbformat": 4,
 "nbformat_minor": 4
}
